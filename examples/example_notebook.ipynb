{
 "cells": [
  {
   "cell_type": "markdown",
   "metadata": {},
   "source": [
    "# Example Notebook to show how to predict solar power generation"
   ]
  },
  {
   "cell_type": "markdown",
   "metadata": {},
   "source": [
    "Make sure to have installed the quart_solar_forecast package: \n",
    "`pip install quartz_solar_forecast`"
   ]
  },
  {
   "cell_type": "code",
   "execution_count": 49,
   "metadata": {},
   "outputs": [],
   "source": [
    "# Import forecast script and PVSite class.\n",
    "from quartz_solar_forecast.forecast import run_forecast\n",
    "from quartz_solar_forecast.pydantic_models import PVSite\n",
    "\n",
    "# Import pandas and plotly for plotting.\n",
    "import plotly.express as px\n",
    "import pandas as pd"
   ]
  },
  {
   "cell_type": "code",
   "execution_count": 50,
   "metadata": {},
   "outputs": [],
   "source": [
    "# Create a PVSite object with the site's latitude, longitude and capacity.\n",
    "site = PVSite(latitude=51.75, longitude=-1.25, capacity_kwp=1.25)"
   ]
  },
  {
   "cell_type": "code",
   "execution_count": 51,
   "metadata": {},
   "outputs": [
    {
     "name": "stdout",
     "output_type": "stream",
     "text": [
      "                     power_wh\n",
      "2023-11-01 00:00:00       0.0\n",
      "2023-11-01 00:15:00       0.0\n",
      "2023-11-01 00:30:00       0.0\n",
      "2023-11-01 00:45:00       0.0\n",
      "2023-11-01 01:00:00       0.0\n",
      "...                       ...\n",
      "2023-11-02 22:45:00       0.0\n",
      "2023-11-02 23:00:00       0.0\n",
      "2023-11-02 23:15:00       0.0\n",
      "2023-11-02 23:30:00       0.0\n",
      "2023-11-02 23:45:00       0.0\n",
      "\n",
      "[192 rows x 1 columns]\n"
     ]
    }
   ],
   "source": [
    "# Run the forecast for a specific initial timestamp.\n",
    "# This generates a forecast at 15 minute intervals for the following 48 hours.\n",
    "predictions_df = run_forecast(site=site, ts='2023-11-01')\n",
    "print(predictions_df)"
   ]
  },
  {
   "cell_type": "code",
   "execution_count": 52,
   "metadata": {},
   "outputs": [
    {
     "data": {
      "application/vnd.plotly.v1+json": {
       "config": {
        "plotlyServerURL": "https://plot.ly"
       },
       "data": [
        {
         "hovertemplate": "variable=power_wh<br>index=%{x}<br>value=%{y}<extra></extra>",
         "legendgroup": "power_wh",
         "line": {
          "color": "#636efa",
          "dash": "solid"
         },
         "marker": {
          "symbol": "circle"
         },
         "mode": "lines",
         "name": "power_wh",
         "orientation": "v",
         "showlegend": true,
         "type": "scatter",
         "x": [
          "2023-11-01T00:00:00",
          "2023-11-01T00:15:00",
          "2023-11-01T00:30:00",
          "2023-11-01T00:45:00",
          "2023-11-01T01:00:00",
          "2023-11-01T01:15:00",
          "2023-11-01T01:30:00",
          "2023-11-01T01:45:00",
          "2023-11-01T02:00:00",
          "2023-11-01T02:15:00",
          "2023-11-01T02:30:00",
          "2023-11-01T02:45:00",
          "2023-11-01T03:00:00",
          "2023-11-01T03:15:00",
          "2023-11-01T03:30:00",
          "2023-11-01T03:45:00",
          "2023-11-01T04:00:00",
          "2023-11-01T04:15:00",
          "2023-11-01T04:30:00",
          "2023-11-01T04:45:00",
          "2023-11-01T05:00:00",
          "2023-11-01T05:15:00",
          "2023-11-01T05:30:00",
          "2023-11-01T05:45:00",
          "2023-11-01T06:00:00",
          "2023-11-01T06:15:00",
          "2023-11-01T06:30:00",
          "2023-11-01T06:45:00",
          "2023-11-01T07:00:00",
          "2023-11-01T07:15:00",
          "2023-11-01T07:30:00",
          "2023-11-01T07:45:00",
          "2023-11-01T08:00:00",
          "2023-11-01T08:15:00",
          "2023-11-01T08:30:00",
          "2023-11-01T08:45:00",
          "2023-11-01T09:00:00",
          "2023-11-01T09:15:00",
          "2023-11-01T09:30:00",
          "2023-11-01T09:45:00",
          "2023-11-01T10:00:00",
          "2023-11-01T10:15:00",
          "2023-11-01T10:30:00",
          "2023-11-01T10:45:00",
          "2023-11-01T11:00:00",
          "2023-11-01T11:15:00",
          "2023-11-01T11:30:00",
          "2023-11-01T11:45:00",
          "2023-11-01T12:00:00",
          "2023-11-01T12:15:00",
          "2023-11-01T12:30:00",
          "2023-11-01T12:45:00",
          "2023-11-01T13:00:00",
          "2023-11-01T13:15:00",
          "2023-11-01T13:30:00",
          "2023-11-01T13:45:00",
          "2023-11-01T14:00:00",
          "2023-11-01T14:15:00",
          "2023-11-01T14:30:00",
          "2023-11-01T14:45:00",
          "2023-11-01T15:00:00",
          "2023-11-01T15:15:00",
          "2023-11-01T15:30:00",
          "2023-11-01T15:45:00",
          "2023-11-01T16:00:00",
          "2023-11-01T16:15:00",
          "2023-11-01T16:30:00",
          "2023-11-01T16:45:00",
          "2023-11-01T17:00:00",
          "2023-11-01T17:15:00",
          "2023-11-01T17:30:00",
          "2023-11-01T17:45:00",
          "2023-11-01T18:00:00",
          "2023-11-01T18:15:00",
          "2023-11-01T18:30:00",
          "2023-11-01T18:45:00",
          "2023-11-01T19:00:00",
          "2023-11-01T19:15:00",
          "2023-11-01T19:30:00",
          "2023-11-01T19:45:00",
          "2023-11-01T20:00:00",
          "2023-11-01T20:15:00",
          "2023-11-01T20:30:00",
          "2023-11-01T20:45:00",
          "2023-11-01T21:00:00",
          "2023-11-01T21:15:00",
          "2023-11-01T21:30:00",
          "2023-11-01T21:45:00",
          "2023-11-01T22:00:00",
          "2023-11-01T22:15:00",
          "2023-11-01T22:30:00",
          "2023-11-01T22:45:00",
          "2023-11-01T23:00:00",
          "2023-11-01T23:15:00",
          "2023-11-01T23:30:00",
          "2023-11-01T23:45:00",
          "2023-11-02T00:00:00",
          "2023-11-02T00:15:00",
          "2023-11-02T00:30:00",
          "2023-11-02T00:45:00",
          "2023-11-02T01:00:00",
          "2023-11-02T01:15:00",
          "2023-11-02T01:30:00",
          "2023-11-02T01:45:00",
          "2023-11-02T02:00:00",
          "2023-11-02T02:15:00",
          "2023-11-02T02:30:00",
          "2023-11-02T02:45:00",
          "2023-11-02T03:00:00",
          "2023-11-02T03:15:00",
          "2023-11-02T03:30:00",
          "2023-11-02T03:45:00",
          "2023-11-02T04:00:00",
          "2023-11-02T04:15:00",
          "2023-11-02T04:30:00",
          "2023-11-02T04:45:00",
          "2023-11-02T05:00:00",
          "2023-11-02T05:15:00",
          "2023-11-02T05:30:00",
          "2023-11-02T05:45:00",
          "2023-11-02T06:00:00",
          "2023-11-02T06:15:00",
          "2023-11-02T06:30:00",
          "2023-11-02T06:45:00",
          "2023-11-02T07:00:00",
          "2023-11-02T07:15:00",
          "2023-11-02T07:30:00",
          "2023-11-02T07:45:00",
          "2023-11-02T08:00:00",
          "2023-11-02T08:15:00",
          "2023-11-02T08:30:00",
          "2023-11-02T08:45:00",
          "2023-11-02T09:00:00",
          "2023-11-02T09:15:00",
          "2023-11-02T09:30:00",
          "2023-11-02T09:45:00",
          "2023-11-02T10:00:00",
          "2023-11-02T10:15:00",
          "2023-11-02T10:30:00",
          "2023-11-02T10:45:00",
          "2023-11-02T11:00:00",
          "2023-11-02T11:15:00",
          "2023-11-02T11:30:00",
          "2023-11-02T11:45:00",
          "2023-11-02T12:00:00",
          "2023-11-02T12:15:00",
          "2023-11-02T12:30:00",
          "2023-11-02T12:45:00",
          "2023-11-02T13:00:00",
          "2023-11-02T13:15:00",
          "2023-11-02T13:30:00",
          "2023-11-02T13:45:00",
          "2023-11-02T14:00:00",
          "2023-11-02T14:15:00",
          "2023-11-02T14:30:00",
          "2023-11-02T14:45:00",
          "2023-11-02T15:00:00",
          "2023-11-02T15:15:00",
          "2023-11-02T15:30:00",
          "2023-11-02T15:45:00",
          "2023-11-02T16:00:00",
          "2023-11-02T16:15:00",
          "2023-11-02T16:30:00",
          "2023-11-02T16:45:00",
          "2023-11-02T17:00:00",
          "2023-11-02T17:15:00",
          "2023-11-02T17:30:00",
          "2023-11-02T17:45:00",
          "2023-11-02T18:00:00",
          "2023-11-02T18:15:00",
          "2023-11-02T18:30:00",
          "2023-11-02T18:45:00",
          "2023-11-02T19:00:00",
          "2023-11-02T19:15:00",
          "2023-11-02T19:30:00",
          "2023-11-02T19:45:00",
          "2023-11-02T20:00:00",
          "2023-11-02T20:15:00",
          "2023-11-02T20:30:00",
          "2023-11-02T20:45:00",
          "2023-11-02T21:00:00",
          "2023-11-02T21:15:00",
          "2023-11-02T21:30:00",
          "2023-11-02T21:45:00",
          "2023-11-02T22:00:00",
          "2023-11-02T22:15:00",
          "2023-11-02T22:30:00",
          "2023-11-02T22:45:00",
          "2023-11-02T23:00:00",
          "2023-11-02T23:15:00",
          "2023-11-02T23:30:00",
          "2023-11-02T23:45:00"
         ],
         "xaxis": "x",
         "y": [
          0,
          0,
          0,
          0,
          0,
          0,
          0,
          0,
          0,
          0,
          0,
          0,
          0,
          0,
          0,
          0,
          0,
          0,
          0,
          0,
          0,
          0,
          0,
          0,
          0,
          0,
          0,
          0,
          0.00039042994165570526,
          0.0064748478196536355,
          0.017441978788513397,
          0.029261169228010826,
          0.04618892941783077,
          0.06362463512431883,
          0.09656532722971589,
          0.1162328194692783,
          0.13477166450411046,
          0.15200116519925538,
          0.20434271812225166,
          0.2217240097380578,
          0.23716301396890993,
          0.25058988794434445,
          0.25611170174847636,
          0.26514755636798193,
          0.2720785219558927,
          0.27687720553817635,
          0.35010335835547063,
          0.35071202614108804,
          0.3486107282057354,
          0.28712985521131174,
          0.19605210373433374,
          0.19014001946380546,
          0.18270350693216125,
          0.173772279584998,
          0.23149059456458437,
          0.2147689071174491,
          0.19372319885851147,
          0.17192280031833918,
          0.106027733275985,
          0.08967578446975405,
          0.07210517785045684,
          0.054486980315481964,
          0.025702276298739227,
          0.014390277134955814,
          0.00710400992219621,
          0.0010199186818994203,
          0,
          0,
          0,
          0,
          0,
          0,
          0,
          0,
          0,
          0,
          0,
          0,
          0,
          0,
          0,
          0,
          0,
          0,
          0,
          0,
          0,
          0,
          0,
          0,
          0,
          0,
          0,
          0,
          0,
          0,
          0,
          0,
          0,
          0,
          0,
          0,
          0,
          0,
          0,
          0,
          0,
          0,
          0,
          0,
          0,
          0,
          0,
          0,
          0,
          0,
          0,
          0,
          0,
          0,
          0,
          0,
          0,
          0,
          0.000175357879640361,
          0.004057868562411405,
          0.01075868154871663,
          0.017036552524081525,
          0.027482680159877083,
          0.038315509704947175,
          0.04465710407920953,
          0.05400883856524345,
          0.06282747355232071,
          0.07234791775626404,
          0.14473265394393287,
          0.15724284294030952,
          0.16835341127816167,
          0.17801447397883421,
          0.21724662284496843,
          0.2250032898679814,
          0.23095196302196294,
          0.23506946843238652,
          0.186869337268551,
          0.19995467845045517,
          0.2061198679513882,
          0.20324532114708832,
          0.228272821393526,
          0.230945460685186,
          0.2290965806325472,
          0.21774988299512976,
          0.2024123179224761,
          0.18757277031893047,
          0.1710248787212532,
          0.17427165480107357,
          0.13799933129663494,
          0.11623633402950725,
          0.09336677610238737,
          0.07716068130247784,
          0.04930624355406209,
          0.0273107929869502,
          0.010796084535407667,
          0.001270008813881051,
          0,
          0,
          0,
          0,
          0,
          0,
          0,
          0,
          0,
          0,
          0,
          0,
          0,
          0,
          0,
          0,
          0,
          0,
          0,
          0,
          0,
          0,
          0,
          0,
          0,
          0,
          0,
          0,
          0,
          0
         ],
         "yaxis": "y"
        }
       ],
       "layout": {
        "legend": {
         "title": {
          "text": "variable"
         },
         "tracegroupgap": 0
        },
        "margin": {
         "t": 60
        },
        "template": {
         "data": {
          "bar": [
           {
            "error_x": {
             "color": "#2a3f5f"
            },
            "error_y": {
             "color": "#2a3f5f"
            },
            "marker": {
             "line": {
              "color": "#E5ECF6",
              "width": 0.5
             },
             "pattern": {
              "fillmode": "overlay",
              "size": 10,
              "solidity": 0.2
             }
            },
            "type": "bar"
           }
          ],
          "barpolar": [
           {
            "marker": {
             "line": {
              "color": "#E5ECF6",
              "width": 0.5
             },
             "pattern": {
              "fillmode": "overlay",
              "size": 10,
              "solidity": 0.2
             }
            },
            "type": "barpolar"
           }
          ],
          "carpet": [
           {
            "aaxis": {
             "endlinecolor": "#2a3f5f",
             "gridcolor": "white",
             "linecolor": "white",
             "minorgridcolor": "white",
             "startlinecolor": "#2a3f5f"
            },
            "baxis": {
             "endlinecolor": "#2a3f5f",
             "gridcolor": "white",
             "linecolor": "white",
             "minorgridcolor": "white",
             "startlinecolor": "#2a3f5f"
            },
            "type": "carpet"
           }
          ],
          "choropleth": [
           {
            "colorbar": {
             "outlinewidth": 0,
             "ticks": ""
            },
            "type": "choropleth"
           }
          ],
          "contour": [
           {
            "colorbar": {
             "outlinewidth": 0,
             "ticks": ""
            },
            "colorscale": [
             [
              0,
              "#0d0887"
             ],
             [
              0.1111111111111111,
              "#46039f"
             ],
             [
              0.2222222222222222,
              "#7201a8"
             ],
             [
              0.3333333333333333,
              "#9c179e"
             ],
             [
              0.4444444444444444,
              "#bd3786"
             ],
             [
              0.5555555555555556,
              "#d8576b"
             ],
             [
              0.6666666666666666,
              "#ed7953"
             ],
             [
              0.7777777777777778,
              "#fb9f3a"
             ],
             [
              0.8888888888888888,
              "#fdca26"
             ],
             [
              1,
              "#f0f921"
             ]
            ],
            "type": "contour"
           }
          ],
          "contourcarpet": [
           {
            "colorbar": {
             "outlinewidth": 0,
             "ticks": ""
            },
            "type": "contourcarpet"
           }
          ],
          "heatmap": [
           {
            "colorbar": {
             "outlinewidth": 0,
             "ticks": ""
            },
            "colorscale": [
             [
              0,
              "#0d0887"
             ],
             [
              0.1111111111111111,
              "#46039f"
             ],
             [
              0.2222222222222222,
              "#7201a8"
             ],
             [
              0.3333333333333333,
              "#9c179e"
             ],
             [
              0.4444444444444444,
              "#bd3786"
             ],
             [
              0.5555555555555556,
              "#d8576b"
             ],
             [
              0.6666666666666666,
              "#ed7953"
             ],
             [
              0.7777777777777778,
              "#fb9f3a"
             ],
             [
              0.8888888888888888,
              "#fdca26"
             ],
             [
              1,
              "#f0f921"
             ]
            ],
            "type": "heatmap"
           }
          ],
          "heatmapgl": [
           {
            "colorbar": {
             "outlinewidth": 0,
             "ticks": ""
            },
            "colorscale": [
             [
              0,
              "#0d0887"
             ],
             [
              0.1111111111111111,
              "#46039f"
             ],
             [
              0.2222222222222222,
              "#7201a8"
             ],
             [
              0.3333333333333333,
              "#9c179e"
             ],
             [
              0.4444444444444444,
              "#bd3786"
             ],
             [
              0.5555555555555556,
              "#d8576b"
             ],
             [
              0.6666666666666666,
              "#ed7953"
             ],
             [
              0.7777777777777778,
              "#fb9f3a"
             ],
             [
              0.8888888888888888,
              "#fdca26"
             ],
             [
              1,
              "#f0f921"
             ]
            ],
            "type": "heatmapgl"
           }
          ],
          "histogram": [
           {
            "marker": {
             "pattern": {
              "fillmode": "overlay",
              "size": 10,
              "solidity": 0.2
             }
            },
            "type": "histogram"
           }
          ],
          "histogram2d": [
           {
            "colorbar": {
             "outlinewidth": 0,
             "ticks": ""
            },
            "colorscale": [
             [
              0,
              "#0d0887"
             ],
             [
              0.1111111111111111,
              "#46039f"
             ],
             [
              0.2222222222222222,
              "#7201a8"
             ],
             [
              0.3333333333333333,
              "#9c179e"
             ],
             [
              0.4444444444444444,
              "#bd3786"
             ],
             [
              0.5555555555555556,
              "#d8576b"
             ],
             [
              0.6666666666666666,
              "#ed7953"
             ],
             [
              0.7777777777777778,
              "#fb9f3a"
             ],
             [
              0.8888888888888888,
              "#fdca26"
             ],
             [
              1,
              "#f0f921"
             ]
            ],
            "type": "histogram2d"
           }
          ],
          "histogram2dcontour": [
           {
            "colorbar": {
             "outlinewidth": 0,
             "ticks": ""
            },
            "colorscale": [
             [
              0,
              "#0d0887"
             ],
             [
              0.1111111111111111,
              "#46039f"
             ],
             [
              0.2222222222222222,
              "#7201a8"
             ],
             [
              0.3333333333333333,
              "#9c179e"
             ],
             [
              0.4444444444444444,
              "#bd3786"
             ],
             [
              0.5555555555555556,
              "#d8576b"
             ],
             [
              0.6666666666666666,
              "#ed7953"
             ],
             [
              0.7777777777777778,
              "#fb9f3a"
             ],
             [
              0.8888888888888888,
              "#fdca26"
             ],
             [
              1,
              "#f0f921"
             ]
            ],
            "type": "histogram2dcontour"
           }
          ],
          "mesh3d": [
           {
            "colorbar": {
             "outlinewidth": 0,
             "ticks": ""
            },
            "type": "mesh3d"
           }
          ],
          "parcoords": [
           {
            "line": {
             "colorbar": {
              "outlinewidth": 0,
              "ticks": ""
             }
            },
            "type": "parcoords"
           }
          ],
          "pie": [
           {
            "automargin": true,
            "type": "pie"
           }
          ],
          "scatter": [
           {
            "fillpattern": {
             "fillmode": "overlay",
             "size": 10,
             "solidity": 0.2
            },
            "type": "scatter"
           }
          ],
          "scatter3d": [
           {
            "line": {
             "colorbar": {
              "outlinewidth": 0,
              "ticks": ""
             }
            },
            "marker": {
             "colorbar": {
              "outlinewidth": 0,
              "ticks": ""
             }
            },
            "type": "scatter3d"
           }
          ],
          "scattercarpet": [
           {
            "marker": {
             "colorbar": {
              "outlinewidth": 0,
              "ticks": ""
             }
            },
            "type": "scattercarpet"
           }
          ],
          "scattergeo": [
           {
            "marker": {
             "colorbar": {
              "outlinewidth": 0,
              "ticks": ""
             }
            },
            "type": "scattergeo"
           }
          ],
          "scattergl": [
           {
            "marker": {
             "colorbar": {
              "outlinewidth": 0,
              "ticks": ""
             }
            },
            "type": "scattergl"
           }
          ],
          "scattermapbox": [
           {
            "marker": {
             "colorbar": {
              "outlinewidth": 0,
              "ticks": ""
             }
            },
            "type": "scattermapbox"
           }
          ],
          "scatterpolar": [
           {
            "marker": {
             "colorbar": {
              "outlinewidth": 0,
              "ticks": ""
             }
            },
            "type": "scatterpolar"
           }
          ],
          "scatterpolargl": [
           {
            "marker": {
             "colorbar": {
              "outlinewidth": 0,
              "ticks": ""
             }
            },
            "type": "scatterpolargl"
           }
          ],
          "scatterternary": [
           {
            "marker": {
             "colorbar": {
              "outlinewidth": 0,
              "ticks": ""
             }
            },
            "type": "scatterternary"
           }
          ],
          "surface": [
           {
            "colorbar": {
             "outlinewidth": 0,
             "ticks": ""
            },
            "colorscale": [
             [
              0,
              "#0d0887"
             ],
             [
              0.1111111111111111,
              "#46039f"
             ],
             [
              0.2222222222222222,
              "#7201a8"
             ],
             [
              0.3333333333333333,
              "#9c179e"
             ],
             [
              0.4444444444444444,
              "#bd3786"
             ],
             [
              0.5555555555555556,
              "#d8576b"
             ],
             [
              0.6666666666666666,
              "#ed7953"
             ],
             [
              0.7777777777777778,
              "#fb9f3a"
             ],
             [
              0.8888888888888888,
              "#fdca26"
             ],
             [
              1,
              "#f0f921"
             ]
            ],
            "type": "surface"
           }
          ],
          "table": [
           {
            "cells": {
             "fill": {
              "color": "#EBF0F8"
             },
             "line": {
              "color": "white"
             }
            },
            "header": {
             "fill": {
              "color": "#C8D4E3"
             },
             "line": {
              "color": "white"
             }
            },
            "type": "table"
           }
          ]
         },
         "layout": {
          "annotationdefaults": {
           "arrowcolor": "#2a3f5f",
           "arrowhead": 0,
           "arrowwidth": 1
          },
          "autotypenumbers": "strict",
          "coloraxis": {
           "colorbar": {
            "outlinewidth": 0,
            "ticks": ""
           }
          },
          "colorscale": {
           "diverging": [
            [
             0,
             "#8e0152"
            ],
            [
             0.1,
             "#c51b7d"
            ],
            [
             0.2,
             "#de77ae"
            ],
            [
             0.3,
             "#f1b6da"
            ],
            [
             0.4,
             "#fde0ef"
            ],
            [
             0.5,
             "#f7f7f7"
            ],
            [
             0.6,
             "#e6f5d0"
            ],
            [
             0.7,
             "#b8e186"
            ],
            [
             0.8,
             "#7fbc41"
            ],
            [
             0.9,
             "#4d9221"
            ],
            [
             1,
             "#276419"
            ]
           ],
           "sequential": [
            [
             0,
             "#0d0887"
            ],
            [
             0.1111111111111111,
             "#46039f"
            ],
            [
             0.2222222222222222,
             "#7201a8"
            ],
            [
             0.3333333333333333,
             "#9c179e"
            ],
            [
             0.4444444444444444,
             "#bd3786"
            ],
            [
             0.5555555555555556,
             "#d8576b"
            ],
            [
             0.6666666666666666,
             "#ed7953"
            ],
            [
             0.7777777777777778,
             "#fb9f3a"
            ],
            [
             0.8888888888888888,
             "#fdca26"
            ],
            [
             1,
             "#f0f921"
            ]
           ],
           "sequentialminus": [
            [
             0,
             "#0d0887"
            ],
            [
             0.1111111111111111,
             "#46039f"
            ],
            [
             0.2222222222222222,
             "#7201a8"
            ],
            [
             0.3333333333333333,
             "#9c179e"
            ],
            [
             0.4444444444444444,
             "#bd3786"
            ],
            [
             0.5555555555555556,
             "#d8576b"
            ],
            [
             0.6666666666666666,
             "#ed7953"
            ],
            [
             0.7777777777777778,
             "#fb9f3a"
            ],
            [
             0.8888888888888888,
             "#fdca26"
            ],
            [
             1,
             "#f0f921"
            ]
           ]
          },
          "colorway": [
           "#636efa",
           "#EF553B",
           "#00cc96",
           "#ab63fa",
           "#FFA15A",
           "#19d3f3",
           "#FF6692",
           "#B6E880",
           "#FF97FF",
           "#FECB52"
          ],
          "font": {
           "color": "#2a3f5f"
          },
          "geo": {
           "bgcolor": "white",
           "lakecolor": "white",
           "landcolor": "#E5ECF6",
           "showlakes": true,
           "showland": true,
           "subunitcolor": "white"
          },
          "hoverlabel": {
           "align": "left"
          },
          "hovermode": "closest",
          "mapbox": {
           "style": "light"
          },
          "paper_bgcolor": "white",
          "plot_bgcolor": "#E5ECF6",
          "polar": {
           "angularaxis": {
            "gridcolor": "white",
            "linecolor": "white",
            "ticks": ""
           },
           "bgcolor": "#E5ECF6",
           "radialaxis": {
            "gridcolor": "white",
            "linecolor": "white",
            "ticks": ""
           }
          },
          "scene": {
           "xaxis": {
            "backgroundcolor": "#E5ECF6",
            "gridcolor": "white",
            "gridwidth": 2,
            "linecolor": "white",
            "showbackground": true,
            "ticks": "",
            "zerolinecolor": "white"
           },
           "yaxis": {
            "backgroundcolor": "#E5ECF6",
            "gridcolor": "white",
            "gridwidth": 2,
            "linecolor": "white",
            "showbackground": true,
            "ticks": "",
            "zerolinecolor": "white"
           },
           "zaxis": {
            "backgroundcolor": "#E5ECF6",
            "gridcolor": "white",
            "gridwidth": 2,
            "linecolor": "white",
            "showbackground": true,
            "ticks": "",
            "zerolinecolor": "white"
           }
          },
          "shapedefaults": {
           "line": {
            "color": "#2a3f5f"
           }
          },
          "ternary": {
           "aaxis": {
            "gridcolor": "white",
            "linecolor": "white",
            "ticks": ""
           },
           "baxis": {
            "gridcolor": "white",
            "linecolor": "white",
            "ticks": ""
           },
           "bgcolor": "#E5ECF6",
           "caxis": {
            "gridcolor": "white",
            "linecolor": "white",
            "ticks": ""
           }
          },
          "title": {
           "x": 0.05
          },
          "xaxis": {
           "automargin": true,
           "gridcolor": "white",
           "linecolor": "white",
           "ticks": "",
           "title": {
            "standoff": 15
           },
           "zerolinecolor": "white",
           "zerolinewidth": 2
          },
          "yaxis": {
           "automargin": true,
           "gridcolor": "white",
           "linecolor": "white",
           "ticks": "",
           "title": {
            "standoff": 15
           },
           "zerolinecolor": "white",
           "zerolinewidth": 2
          }
         }
        },
        "xaxis": {
         "anchor": "y",
         "domain": [
          0,
          1
         ],
         "title": {
          "text": "index"
         }
        },
        "yaxis": {
         "anchor": "x",
         "domain": [
          0,
          1
         ],
         "title": {
          "text": "value"
         }
        }
       }
      }
     },
     "metadata": {},
     "output_type": "display_data"
    }
   ],
   "source": [
    "# Lets see what the results look like in a plot.\n",
    "fig = px.line(predictions_df)\n",
    "fig.show()"
   ]
  }
 ],
 "metadata": {
  "kernelspec": {
   "display_name": "quartz_open",
   "language": "python",
   "name": "python3"
  },
  "language_info": {
   "codemirror_mode": {
    "name": "ipython",
    "version": 3
   },
   "file_extension": ".py",
   "mimetype": "text/x-python",
   "name": "python",
   "nbconvert_exporter": "python",
   "pygments_lexer": "ipython3",
   "version": "3.10.0"
  }
 },
 "nbformat": 4,
 "nbformat_minor": 2
}
